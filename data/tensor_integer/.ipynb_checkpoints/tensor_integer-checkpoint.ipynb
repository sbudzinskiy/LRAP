{
 "cells": [
  {
   "cell_type": "code",
   "execution_count": 1,
   "metadata": {},
   "outputs": [],
   "source": [
    "import numpy as np\n",
    "import matplotlib.pyplot as plt\n",
    "%matplotlib inline\n",
    "\n",
    "oi_colors = {\n",
    "    \"orange\"    : \"#E69F00\", \n",
    "    \"skyblue\"   : \"#56B4E9\", \n",
    "    \"bluegreen\" : \"#009E73\", \n",
    "    \"yellow\"    : \"#F0E442\", \n",
    "    \"blue\"      : \"#0072B2\", \n",
    "    \"vermilion\" : \"#D55E00\", \n",
    "    \"redpurple\" : \"#CC79A7\",\n",
    "    \"black\"     : \"#000000\"}\n",
    "\n",
    "fontsize = 14\n",
    "EPS = 1.1e-16"
   ]
  },
  {
   "cell_type": "code",
   "execution_count": 3,
   "metadata": {},
   "outputs": [],
   "source": [
    "def read_eps(d, n, r, method):\n",
    "    eps = np.zeros([20])\n",
    "    for i in range(20):\n",
    "        with open(f'./d{d}_n{n}_r{r}_{method}/{i+1}.log') as f:\n",
    "            for line in f:\n",
    "                pass\n",
    "            eps[i] = float(line)\n",
    "    return eps"
   ]
  },
  {
   "cell_type": "code",
   "execution_count": 6,
   "metadata": {},
   "outputs": [],
   "source": [
    "eps_2_5 = read_eps(2, 200, 5, \"ttsvd\")\n",
    "eps_2_10 = read_eps(2, 200, 10, \"ttsvd\")\n",
    "eps_2_20 = read_eps(2, 200, 20, \"ttsvd\")\n",
    "\n",
    "eps_3_5 = read_eps(3, 100, 5, \"ttsvd\")\n",
    "eps_3_10 = read_eps(3, 100, 10, \"ttsvd\")\n",
    "eps_3_20 = read_eps(3, 100, 20, \"ttsvd\")"
   ]
  },
  {
   "cell_type": "code",
   "execution_count": 10,
   "metadata": {},
   "outputs": [
    {
     "name": "stdout",
     "output_type": "stream",
     "text": [
      "0.490792 0.4937894500000001 0.498064\n",
      "0.467672 0.47264929999999994 0.481514\n",
      "0.43326 0.43786325000000004 0.443663\n"
     ]
    }
   ],
   "source": [
    "print(np.min(eps_2_5), np.mean(eps_2_5), np.max(eps_2_5))\n",
    "print(np.min(eps_2_10), np.mean(eps_2_10), np.max(eps_2_10))\n",
    "print(np.min(eps_2_20), np.mean(eps_2_20), np.max(eps_2_20))"
   ]
  }
 ],
 "metadata": {
  "kernelspec": {
   "display_name": "Python 3",
   "language": "python",
   "name": "python3"
  },
  "language_info": {
   "codemirror_mode": {
    "name": "ipython",
    "version": 3
   },
   "file_extension": ".py",
   "mimetype": "text/x-python",
   "name": "python",
   "nbconvert_exporter": "python",
   "pygments_lexer": "ipython3",
   "version": "3.6.5"
  }
 },
 "nbformat": 4,
 "nbformat_minor": 2
}
